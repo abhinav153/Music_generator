{
 "cells": [
  {
   "cell_type": "code",
   "execution_count": 1,
   "metadata": {},
   "outputs": [],
   "source": [
    "from pyo import *\n",
    "import wx"
   ]
  },
  {
   "cell_type": "code",
   "execution_count": 2,
   "metadata": {},
   "outputs": [
    {
     "name": "stdout",
     "output_type": "stream",
     "text": [
      "Audio host APIS:\n",
      "Host APIS:\n",
      "index: 0, id: 8, name: ALSA, num devices: 9, default in: 8, default out: 8\n",
      "index: 1, id: 7, name: OSS, num devices: 0, default in: -1, default out: -1\n",
      "\n",
      "AUDIO devices:\n",
      "0: OUT, name: HDA Intel HDMI: 0 (hw:0,3), host api index: 0, default sr: 44100 Hz, latency: 0.005805 s\n",
      "1: OUT, name: HDA Intel HDMI: 1 (hw:0,7), host api index: 0, default sr: 44100 Hz, latency: 0.005805 s\n",
      "2: OUT, name: HDA Intel HDMI: 2 (hw:0,8), host api index: 0, default sr: 44100 Hz, latency: 0.005805 s\n",
      "3: OUT, name: HDA Intel HDMI: 3 (hw:0,9), host api index: 0, default sr: 44100 Hz, latency: 0.005805 s\n",
      "4: OUT, name: HDA Intel HDMI: 4 (hw:0,10), host api index: 0, default sr: 44100 Hz, latency: 0.005805 s\n",
      "5: IN, name: HDA Intel PCH: 92HD91BXX Analog (hw:1,0), host api index: 0, default sr: 44100 Hz, latency: 0.005805 s\n",
      "5: OUT, name: HDA Intel PCH: 92HD91BXX Analog (hw:1,0), host api index: 0, default sr: 44100 Hz, latency: 0.005805 s\n",
      "6: OUT, name: hdmi, host api index: 0, default sr: 44100 Hz, latency: 0.005805 s\n",
      "7: IN, name: pulse, host api index: 0, default sr: 44100 Hz, latency: 0.008707 s\n",
      "7: OUT, name: pulse, host api index: 0, default sr: 44100 Hz, latency: 0.008707 s\n",
      "8: IN, name: default, host api index: 0, default sr: 44100 Hz, latency: 0.008707 s\n",
      "8: OUT, name: default, host api index: 0, default sr: 44100 Hz, latency: 0.008707 s\n",
      "\n",
      "Default input device: 8\n",
      "Default output device: 8\n"
     ]
    }
   ],
   "source": [
    "print(\"Audio host APIS:\")\n",
    "pa_list_host_apis()\n",
    "pa_list_devices()\n",
    "print(\"Default input device: %i\" % pa_get_default_input())\n",
    "print(\"Default output device: %i\" % pa_get_default_output())\n"
   ]
  },
  {
   "cell_type": "code",
   "execution_count": 3,
   "metadata": {},
   "outputs": [
    {
     "data": {
      "text/plain": [
       "<pyo.lib.server.Server at 0x7fd8e80cd550>"
      ]
     },
     "execution_count": 3,
     "metadata": {},
     "output_type": "execute_result"
    }
   ],
   "source": [
    "s = Server(duplex = 0)\n",
    "s.setOutputDevice(7)\n",
    "s.boot()\n",
    "s.start()"
   ]
  },
  {
   "cell_type": "code",
   "execution_count": null,
   "metadata": {},
   "outputs": [
    {
     "name": "stderr",
     "output_type": "stream",
     "text": [
      "ERROR:root:Invalid alias: The name clear can't be aliased because it is another magic command.\n",
      "ERROR:root:Invalid alias: The name more can't be aliased because it is another magic command.\n",
      "ERROR:root:Invalid alias: The name less can't be aliased because it is another magic command.\n",
      "ERROR:root:Invalid alias: The name man can't be aliased because it is another magic command.\n"
     ]
    }
   ],
   "source": [
    "\n",
    "s.amp = 0.25\n",
    "\n",
    "# Simple infinite sequence.\n",
    "e = Events(freq=EventSeq([250, 300, 350, 400])).play()\n",
    "\n",
    "# This will play the same note forever.\n",
    "e3 = Events(freq=200).play()\n",
    "\n",
    "\n",
    "\n",
    "s.gui(locals())\n"
   ]
  },
  {
   "cell_type": "code",
   "execution_count": 5,
   "metadata": {},
   "outputs": [],
   "source": [
    "s.stop()"
   ]
  },
  {
   "cell_type": "code",
   "execution_count": null,
   "metadata": {},
   "outputs": [],
   "source": []
  }
 ],
 "metadata": {
  "kernelspec": {
   "display_name": "Python 3",
   "language": "python",
   "name": "python3"
  },
  "language_info": {
   "codemirror_mode": {
    "name": "ipython",
    "version": 3
   },
   "file_extension": ".py",
   "mimetype": "text/x-python",
   "name": "python",
   "nbconvert_exporter": "python",
   "pygments_lexer": "ipython3",
   "version": "3.7.3"
  }
 },
 "nbformat": 4,
 "nbformat_minor": 2
}
